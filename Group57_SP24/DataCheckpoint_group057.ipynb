{
 "cells": [
  {
   "cell_type": "markdown",
   "metadata": {},
   "source": [
    "**If you lost points on the last checkpoint you can get them back by responding to TA/IA feedback**  \n",
    "\n",
    "Update/change the relevant sections where you lost those points, make sure you respond on GitHub Issues to your TA/IA to call their attention to the changes you made here.\n",
    "\n",
    "Please update your Timeline... no battle plan survives contact with the enemy, so make sure we understand how your plans have changed."
   ]
  },
  {
   "cell_type": "markdown",
   "metadata": {},
   "source": [
    "# COGS 108 - Data Checkpoint"
   ]
  },
  {
   "cell_type": "markdown",
   "metadata": {},
   "source": [
    "# Names\n",
    "\n",
    "- David An \n",
    "- Delvin Bajoua \n",
    "- Eric Chun \n",
    "- Joshua Huang\n",
    "- Zeyad Almoaigel"
   ]
  },
  {
   "cell_type": "markdown",
   "metadata": {},
   "source": [
    "# Research Question"
   ]
  },
  {
   "cell_type": "markdown",
   "metadata": {},
   "source": [
    "How do the occurrences of various types of traffic accidents such as hit and runs, DUIs, and speeding vary among different vehicle makes and models in San Diego? \n",
    "\n",
    "Sub-questions:\n",
    "\n",
    " - How does the frequency and severity of traffic collisions vary by vehicle type over the specified time period?\n",
    "\n",
    " - Are certain violation types more strongly associated with severe injuries or fatalities compared to others?\n",
    "\n",
    " - What is the relationship between hit-and-run incidents and the severity of injuries or fatalities in traffic collisions?\n",
    "\n",
    " - How has the prevalence of specific vehicle makes and models changed over time, and what impact, if any, has this had on collision severity?\n",
    "\n",
    " - Are there geographic or demographic trends that correlate with higher rates of severe injuries or fatalities in traffic collisions?"
   ]
  },
  {
   "cell_type": "markdown",
   "metadata": {},
   "source": [
    "## Background and Prior Work"
   ]
  },
  {
   "cell_type": "markdown",
   "metadata": {},
   "source": [
    "With an increase in traffic congestion and drivers on the road, San Diego is seeing a spike in road incidents. There is a growing concern, especially considering how the district attorney's office has prosecuted 225 fatal cases for driving under the influence (DUIs) over the past 10 years since 2023. <a name=\"cite_ref-1\"></a>[<sup>1</sup>](#cite_note-1) Many institutions are looking into the issue, with UC San Diego's Herbert Wertheim School of Public Health and Human Longevity Science leading a program to make roads safer for everyone, including drivers, pedestrians, and cyclists. This effort is supported by a $360,000 grant from the California Office of Traffic Safety through the NHTSA. <a name=\"cite_ref-2\"></a>[<sup>2</sup>](#cite_note-2) With the increase in accidents comes the question how this varies among different types of vehicles, makes, and models. According to the Times of San Diego, distracted driving, speeding, and DUIs are cited as the primary causes of accidents in the region.  <a name=\"cite_ref-3\"></a>[<sup>3</sup>](#cite_note-3) Exploring these distributions could unveil specific focus groups or brands associated with accidents, providing invaluable insights into real-world traffic occurrences and vehicular accidents. Prior research has hinted at this connection. A study published in the Journal of Social Marketing found that certain car brands were statistically more likely to be involved in accidents where risky or aggressive maneuvers were a factor. The lead author of the study, Alan Tapp, highlighted the role of marketing in promoting certain images associated with driving, such as performance and speed prevalent with more luxury vehicles. <a name=\"cite_ref-4\"></a>[<sup>4</sup>](#cite_note-4) An analysis of car accident data from 2017 to 2022 also sheds light on the variations in accident occurrences. <a name=\"cite_ref-5\"></a>[<sup>5</sup>](#cite_note-5) Specific types of violations, such as failure to yield or unsafe turns may additionally demonstrate distinct patterns that may be influenced by vehicle characteristics and driving behaviors. Understanding these nuances is essential for informing policies and strategies that effectively address the occurrence of specific types of accidents and promote road safety for all road users."
   ]
  },
  {
   "cell_type": "markdown",
   "metadata": {},
   "source": [
    "### Sources"
   ]
  },
  {
   "cell_type": "markdown",
   "metadata": {},
   "source": [
    "1. <a name=\"cite_note-1\"></a> [^](#cite_ref-1) Fleming, Omari. (5 Dec 2023) Deadly DUI numbers in San Diego County nearing all-time high: District Attorney. *NBC San Diego*. https://www.nbcsandiego.com/news/local/deadly-dui-numbers-in-san-diego-county-nearing-all-time-high-district-attorney/3373245/ \n",
    "\n",
    "2. <a name=\"cite_note-2\"></a> [^](#cite_ref-2) Delong, Tyler. (9 November 2023) Grant Helps Program Expand Distracted Driving Education to Online Learning. *UC San Diego Today*. https://today.ucsd.edu/story/grant-helps-program-expand-distracted-driving-education-to-online-learning \n",
    "\n",
    "3. <a name =\"cite_note-3\"> </a> [^](#cite_ref-3) (4 March 2024) Understanding the Leading Causes of Car Accidents in San Diego. *Times of San Diego*. https://timesofsandiego.com/sponsored/2024/03/04/understanding-the-leading-causes-of-car-accidents-in-san-diego/ \n",
    "\n",
    "4. <a name =\"cite_note-4\"> </a> [^](#cite_ref-4) Topham, Gwyn. (11 November 2023) BMW, Subaru and Porsche drivers ‘more likely to cause a crash’, study finds. *The Guardian*. https://www.theguardian.com/business/2023/nov/11/bmw-subaru-and-porsche-drivers-more-likely-to-cause-a-crash-study-finds \n",
    "\n",
    "5. <a name =\"cite_note-5\"> </a> [^](#cite_ref-5) City of San Diego Number of Car Accidents by Car Accident Type from 2017 to 2022. *Hamparyan Law*. https://www.hamparyan.com/city-san-diego-number-car-accidents-car-accident-type-2017-2022/ \n",
    "\n"
   ]
  },
  {
   "cell_type": "markdown",
   "metadata": {},
   "source": [
    "# Hypothesis\n"
   ]
  },
  {
   "cell_type": "markdown",
   "metadata": {},
   "source": [
    "**We believe that car brands favored by younger generations or falling under the higher luxury/sport categories are more likely to be involved in collision accidents.** The former is believed due to the idea that younger individuals will simply have less experience in driving and hence, they are more likely to get into collision accidents. Additionally, luxury/sportier cars also tend to exhibit higher-power engines but in turn make them harder to control, which increases the likelihood of these vehicle drivers getting into a collision accident. Our observations would suggest that speeding and making unsafe turns are the most prevalent factors for incidents in San Diego overall as well as for vehicles classified in the luxury/sport category. This was information we made note of directly from the highest occurrences of individual violations in our dataset, backing up our previous point on young generations since we believe there’s a larger recklessness involved with their driving, which would include going at unsafe levels of speed and making high risk turns. Another factor we believe to prevalent toward reasoning would be DUIs, as since we expect the larger majority of drivers to be on the younger side, we also believe that this age group would have less tolerance in regards to alcohol consumption and combined with the consideration of less responsiblity expected from this group may be more likely to commit to driving under influence."
   ]
  },
  {
   "cell_type": "markdown",
   "metadata": {},
   "source": [
    "# Data"
   ]
  },
  {
   "cell_type": "markdown",
   "metadata": {},
   "source": [
    "## Data overview\n",
    "\n",
    "For each dataset include the following information\n",
    "- Dataset #1\n",
    "  - Dataset Name: Traffic collisions in San Diego county - people and vehicles involved\n",
    "  - Link to the dataset: https://data.sandiego.gov/datasets/police-collisions-details/\n",
    "  - Number of observations: 127083 (cleaned: 77809)\n",
    "  - Number of variables: 22 (cleaned: 18)\n",
    "    - List of important variables: `date_time`, `person_injury_lvl`, `veh_type`, `veh_make`,\n",
    "       `veh_model`, `violation_section`, `violation_type`, `charge_desc`,\n",
    "       `injured`, `killed`, `year`, `district`,\n",
    "       `street_address`, and `violation_section_description`\n",
    "- Dataset #2\n",
    "  - Dataset Name: New ZEV Sales in California\n",
    "  - Link to the dataset: https://www.energy.ca.gov/data-reports/energy-almanac/zero-emission-vehicle-and-infrastructure-statistics/new-zev-sales\n",
    "  - Number of observations: 35527 (cleaned: 1243)\n",
    "  - Number of variables: 7 (cleaned: 7)\n",
    "    - List of important variables: `Data_Year`, `Quarter`, `County`, `FUEL_TYPE`, `MAKE`, `MODEL`, and\n",
    "       `Number of Vehicles`\n",
    "\n",
    "Dataset #1 is maintained by the City of San Diego, and it contains traffic collisions reported to San Diego Police Department. Important columns are date and time, person's injury level, vehicle make, vehicle model, location, vehicle violation section, charge description, and number of people who got injured and killed. For date and time, it is in string format that includes year, month, day, hour, minute, and second, and it ranges from 2015 to 2024. For a person's injury level, it is categorized as uncertain, pain, severe, and fatal with some null values. For vehicle make and model, it is stored as strings. However, since the data was recorded by humans, there are some missing values since they might not be able to identify all kinds of vehicles. For location, we can use `police_beat`, which is in integer, to merge with another dataframe that has a mapping of police beat and city name so that we can get the location name into something we are familiar with. The vehicle violation section is stored as a string indicating which California vehicle violation section a driver violated. This is related to the charge description column, which is in string. So using the charge description, we can get a sense of what each violation section code means by using text analysis. Through this, we can understand why an accident occurred for each row. For the number of people who got injured and killed, they are stored as integers each ranging from 0 to 122 and 0 to 3. We could also use this to approximate how severe an accident was. \n",
    "\n",
    "Dataset #2 is maintained by the California Energy Commission, and it is about Zero Emission Vehicles Sales in California. It contains year, quarter, county, fuel type, make, model, and number of vehicles. The year column is in integer ranging from 2009 to 2024. The Quarter column is in string, and the values are Q1, Q2, Q3, and Q4. County is also in a string value, and since it contains all counties in California, we will later filter it by San Diego. Next, the fuel type column contains 3 types of string values which are electric, plug-in hybrid electric, and hydrogen. For vehicle make and model, they are also in string. **Later, we can use these columns and the year column to merge with our first dataset so that we can normalize observations based on the sales to account for different proportions of existing vehicle makes in San Diego.** For the number of vehicles, it stores integers ranging from 1 to 4669. Its mean value is 124 with a median value of 33. So we can tell the distribution is skewed to the right. \n",
    "\n",
    "Information about wrangling/cleaning/preprocessing is written after each dataset."
   ]
  },
  {
   "cell_type": "markdown",
   "metadata": {},
   "source": [
    "## Dataset #1: Traffic collisions - people and vehicles involved"
   ]
  },
  {
   "cell_type": "code",
   "execution_count": 1,
   "metadata": {},
   "outputs": [
    {
     "name": "stdout",
     "output_type": "stream",
     "text": [
      "Shape of the df: (77809, 18)\n"
     ]
    },
    {
     "data": {
      "text/html": [
       "<div>\n",
       "<style scoped>\n",
       "    .dataframe tbody tr th:only-of-type {\n",
       "        vertical-align: middle;\n",
       "    }\n",
       "\n",
       "    .dataframe tbody tr th {\n",
       "        vertical-align: top;\n",
       "    }\n",
       "\n",
       "    .dataframe thead th {\n",
       "        text-align: right;\n",
       "    }\n",
       "</style>\n",
       "<table border=\"1\" class=\"dataframe\">\n",
       "  <thead>\n",
       "    <tr style=\"text-align: right;\">\n",
       "      <th></th>\n",
       "      <th>report_id</th>\n",
       "      <th>date_time</th>\n",
       "      <th>person_injury_lvl</th>\n",
       "      <th>veh_type</th>\n",
       "      <th>veh_make</th>\n",
       "      <th>veh_model</th>\n",
       "      <th>violation_section</th>\n",
       "      <th>violation_type</th>\n",
       "      <th>charge_desc</th>\n",
       "      <th>injured</th>\n",
       "      <th>killed</th>\n",
       "      <th>hit_run_lvl</th>\n",
       "      <th>year</th>\n",
       "      <th>district</th>\n",
       "      <th>street_address</th>\n",
       "      <th>at_intersection</th>\n",
       "      <th>street_address_intersection</th>\n",
       "      <th>violation_section_description</th>\n",
       "    </tr>\n",
       "  </thead>\n",
       "  <tbody>\n",
       "    <tr>\n",
       "      <th>0</th>\n",
       "      <td>180393</td>\n",
       "      <td>2017-01-05 08:30:00</td>\n",
       "      <td>UNCERTAIN</td>\n",
       "      <td>AUTOMOBILE</td>\n",
       "      <td>ACURA</td>\n",
       "      <td>MDX</td>\n",
       "      <td>MISC-HAZ</td>\n",
       "      <td>VC</td>\n",
       "      <td>miscellaneous hazardous violations of the vehi...</td>\n",
       "      <td>0</td>\n",
       "      <td>0</td>\n",
       "      <td>Not Applicable</td>\n",
       "      <td>2017</td>\n",
       "      <td>Sorrento Valley</td>\n",
       "      <td>3800 Sorrento Valley Boulevard</td>\n",
       "      <td>False</td>\n",
       "      <td>None</td>\n",
       "      <td>MISC-HAZ</td>\n",
       "    </tr>\n",
       "    <tr>\n",
       "      <th>1</th>\n",
       "      <td>180418</td>\n",
       "      <td>2017-01-05 10:46:00</td>\n",
       "      <td>UNCERTAIN</td>\n",
       "      <td>AUTOMOBILE</td>\n",
       "      <td>VOLVO</td>\n",
       "      <td>V70</td>\n",
       "      <td>22106</td>\n",
       "      <td>VC</td>\n",
       "      <td>starting parked vehicles or backing</td>\n",
       "      <td>1</td>\n",
       "      <td>0</td>\n",
       "      <td>Not Applicable</td>\n",
       "      <td>2017</td>\n",
       "      <td>North Clairemont</td>\n",
       "      <td>4800 Clairemont Drive</td>\n",
       "      <td>False</td>\n",
       "      <td>None</td>\n",
       "      <td>No person shall start a vehicle stopped, stand...</td>\n",
       "    </tr>\n",
       "    <tr>\n",
       "      <th>2</th>\n",
       "      <td>175065</td>\n",
       "      <td>2017-01-06 13:45:00</td>\n",
       "      <td>UNCERTAIN</td>\n",
       "      <td>UNKNOWN</td>\n",
       "      <td>NISSAN</td>\n",
       "      <td>SENTRA</td>\n",
       "      <td>21703</td>\n",
       "      <td>VC</td>\n",
       "      <td>following too closely</td>\n",
       "      <td>0</td>\n",
       "      <td>0</td>\n",
       "      <td>Misdemeanor</td>\n",
       "      <td>2017</td>\n",
       "      <td>Oak Park</td>\n",
       "      <td>2100 54Th Street</td>\n",
       "      <td>False</td>\n",
       "      <td>None</td>\n",
       "      <td>The driver of a motor vehicle shall not follow...</td>\n",
       "    </tr>\n",
       "  </tbody>\n",
       "</table>\n",
       "</div>"
      ],
      "text/plain": [
       "  report_id           date_time person_injury_lvl              veh_type  \\\n",
       "0    180393 2017-01-05 08:30:00         UNCERTAIN  AUTOMOBILE             \n",
       "1    180418 2017-01-05 10:46:00         UNCERTAIN  AUTOMOBILE             \n",
       "2    175065 2017-01-06 13:45:00         UNCERTAIN               UNKNOWN   \n",
       "\n",
       "  veh_make veh_model violation_section violation_type  \\\n",
       "0    ACURA       MDX          MISC-HAZ             VC   \n",
       "1    VOLVO       V70             22106             VC   \n",
       "2   NISSAN    SENTRA             21703             VC   \n",
       "\n",
       "                                         charge_desc  injured  killed  \\\n",
       "0  miscellaneous hazardous violations of the vehi...        0       0   \n",
       "1                starting parked vehicles or backing        1       0   \n",
       "2                              following too closely        0       0   \n",
       "\n",
       "      hit_run_lvl  year          district                  street_address  \\\n",
       "0  Not Applicable  2017   Sorrento Valley  3800 Sorrento Valley Boulevard   \n",
       "1  Not Applicable  2017  North Clairemont           4800 Clairemont Drive   \n",
       "2     Misdemeanor  2017          Oak Park                2100 54Th Street   \n",
       "\n",
       "   at_intersection street_address_intersection  \\\n",
       "0            False                        None   \n",
       "1            False                        None   \n",
       "2            False                        None   \n",
       "\n",
       "                       violation_section_description  \n",
       "0                                           MISC-HAZ  \n",
       "1  No person shall start a vehicle stopped, stand...  \n",
       "2  The driver of a motor vehicle shall not follow...  "
      ]
     },
     "execution_count": 1,
     "metadata": {},
     "output_type": "execute_result"
    }
   ],
   "source": [
    "import pandas as pd\n",
    "\n",
    "original_df = pd.read_csv('pd_collisions_details_datasd.csv', low_memory=False)\n",
    "beat = pd.read_csv('https://seshat.datasd.org/gis_police_beats/pd_beat_codes_list_datasd.csv').set_index('beat')\n",
    "violation_section = pd.read_csv('violation_section.csv')\n",
    "violation_extra = pd.read_csv('violations_extra.csv')\n",
    "violation_section = pd.concat((violation_section, violation_extra), ignore_index = True)\n",
    "\n",
    "beat_dict = beat.to_dict()['neighborhood']\n",
    "collisions_sd = original_df.copy()\n",
    "collisions_sd['date_time'] = pd.to_datetime(collisions_sd['date_time'])\n",
    "collisions_sd['year'] = collisions_sd['date_time'].dt.year\n",
    "collisions_sd['district'] = collisions_sd['police_beat'].apply(lambda x: beat_dict[x] if x in beat_dict else 'unknown')\n",
    "collisions_sd['charge_desc'] = collisions_sd['charge_desc'].str.lower()\n",
    "\n",
    "# Address\n",
    "collisions_sd['street_address'] = (collisions_sd['address_no_primary'].astype(str)\n",
    "                                   + collisions_sd['address_pd_primary']\n",
    "                                   .apply(lambda x: x if x == ' ' else \" \" + x + \" \")\n",
    "                                     + collisions_sd['address_road_primary'] + \" \"\n",
    "                                  + collisions_sd['address_sfx_primary'])\n",
    "collisions_sd['street_address'] = collisions_sd['street_address'].str.strip().str.title().fillna(\"Unknown\")\n",
    "collisions_sd = collisions_sd.drop(['address_no_primary', 'address_pd_primary', \n",
    "                                    'address_road_primary', 'address_sfx_primary', 'police_beat'], axis = 1)\n",
    "collisions_sd['at_intersection'] = ((collisions_sd['address_pd_intersecting'] != ' ') \n",
    "                                    | (collisions_sd['address_name_intersecting'] != ' ') \n",
    "                                   | (collisions_sd['address_sfx_intersecting'] != ' '))\n",
    "collisions_sd['street_address_intersection'] = (collisions_sd['address_pd_intersecting']\n",
    "                                   + collisions_sd['address_name_intersecting'].astype(str)\n",
    "                                   .apply(lambda x: x if x == ' ' else \" \" + x + \" \")\n",
    "                                     + collisions_sd['address_sfx_intersecting'])\n",
    "collisions_sd['street_address_intersection'] = collisions_sd['street_address_intersection'].apply(\n",
    "    lambda x: x if x != \"   \" else \"None\").fillna(\"Unknown\")\n",
    "collisions_sd['hit_run_lvl'] = collisions_sd['hit_run_lvl'].fillna(\"Not applicable\").str.title()\n",
    "\n",
    "collisions_sd = collisions_sd[\n",
    "    (collisions_sd['person_role']=='DRIVER') &  # Filtering to only include DRIVER since we are interested in collision causes by driver\n",
    "    (collisions_sd['year']>=2017)  # Filtering >= 2017 due to few observations in 2015 and 2016\n",
    "]\n",
    "\n",
    "collisions_sd = collisions_sd.merge(violation_section, how='left', left_on='violation_section', right_on='violation_section')\n",
    "\n",
    "collisions_sd['person_injury_lvl'] = collisions_sd['person_injury_lvl'].fillna(\"UNCERTAIN\")\n",
    "collisions_sd['veh_type'] = collisions_sd['veh_type'].fillna(\"UNKNOWN\")\n",
    "collisions_sd['veh_make'] = collisions_sd['veh_make'].fillna(\"UNKNOWN\")\n",
    "collisions_sd['veh_model'] = collisions_sd['veh_model'].fillna(\"UNKNOWN\")\n",
    "collisions_sd['violation_section_description'] = collisions_sd['violation_section_description'].fillna('forbids drivers from stopping in a crosswalk and blocking it “unnecessarily.”')\n",
    "\n",
    "collisions_sd.drop(['person_veh_type',\n",
    "                    'person_role',\n",
    "                    'address_pd_intersecting',\n",
    "                    'address_name_intersecting',\n",
    "                    'address_sfx_intersecting'], axis=1, inplace=True)\n",
    "print('Shape of the df:', collisions_sd.shape)\n",
    "collisions_sd.head(3)"
   ]
  },
  {
   "cell_type": "markdown",
   "metadata": {},
   "source": [
    "The crux of the data here covers all vehicle accidents in San Diego from 2015 to present. This data set is grouped to cover all types of brands and the collisions accidents they got into a singular dataframe. The most important sections will be brand and accident type (found under 'charge_desc') which will be the crux behind the true exploration of the data. Some other potentially useful columns we will use include the year and the location for exploration on aggregation on potential differences in the distribution based on the results we get from our main question. We also have an injured and killed count for further exploration into the severity of accidents.\n",
    "\n",
    "A simple summary of the cleaning process is as follows; first all string formatting was lowered and title for better presentations. Some exceptions included model brand and type since we felt changin the string to lower wouldn't really do much in terms of presentations and the upper cases here helped highlight the specific type of brand, model, etc. of the vehicle. Police beats codes were replaced with the actual district number from the csv dictionary reference if it existed else unknown, and time reported was changed to datetime per pandas along with extracting the year in specific. Street addresses were concatenate to a single full name column and seperating columsn were dropped. The same was done on interesection street addresses if they existed along a column labeling whether the collision occured at any intersection or not. Finally the data was filtered to only driver roles due to interest in only collisions caused by drivers and reports from 2016 and 2015 were dropped due to extremly low amounts. Missing value columns were replaced appropiate will \"missing\" text or \"not applicable\" depending on the column context. Finally, merge was commited on violation_section with a seperate dataframe to include a description column on the specific violation. "
   ]
  },
  {
   "cell_type": "markdown",
   "metadata": {},
   "source": [
    "## Dataset #2 (if you have more than one, use name instead of number here)"
   ]
  },
  {
   "cell_type": "code",
   "execution_count": 2,
   "metadata": {
    "scrolled": true
   },
   "outputs": [
    {
     "name": "stdout",
     "output_type": "stream",
     "text": [
      "Shape of the df: (1243, 7)\n"
     ]
    },
    {
     "data": {
      "text/html": [
       "<div>\n",
       "<style scoped>\n",
       "    .dataframe tbody tr th:only-of-type {\n",
       "        vertical-align: middle;\n",
       "    }\n",
       "\n",
       "    .dataframe tbody tr th {\n",
       "        vertical-align: top;\n",
       "    }\n",
       "\n",
       "    .dataframe thead th {\n",
       "        text-align: right;\n",
       "    }\n",
       "</style>\n",
       "<table border=\"1\" class=\"dataframe\">\n",
       "  <thead>\n",
       "    <tr style=\"text-align: right;\">\n",
       "      <th></th>\n",
       "      <th>Data_Year</th>\n",
       "      <th>Quarter</th>\n",
       "      <th>County</th>\n",
       "      <th>FUEL_TYPE</th>\n",
       "      <th>MAKE</th>\n",
       "      <th>MODEL</th>\n",
       "      <th>Number of Vehicles</th>\n",
       "    </tr>\n",
       "  </thead>\n",
       "  <tbody>\n",
       "    <tr>\n",
       "      <th>0</th>\n",
       "      <td>2009</td>\n",
       "      <td>(No Quarter Related)</td>\n",
       "      <td>San Diego</td>\n",
       "      <td>Electric</td>\n",
       "      <td>Tesla</td>\n",
       "      <td>Roadster</td>\n",
       "      <td>1</td>\n",
       "    </tr>\n",
       "    <tr>\n",
       "      <th>1</th>\n",
       "      <td>2010</td>\n",
       "      <td>(No Quarter Related)</td>\n",
       "      <td>San Diego</td>\n",
       "      <td>Electric</td>\n",
       "      <td>MINI</td>\n",
       "      <td>Cooper</td>\n",
       "      <td>2</td>\n",
       "    </tr>\n",
       "    <tr>\n",
       "      <th>2</th>\n",
       "      <td>2010</td>\n",
       "      <td>(No Quarter Related)</td>\n",
       "      <td>San Diego</td>\n",
       "      <td>Electric</td>\n",
       "      <td>Tesla</td>\n",
       "      <td>Roadster</td>\n",
       "      <td>26</td>\n",
       "    </tr>\n",
       "  </tbody>\n",
       "</table>\n",
       "</div>"
      ],
      "text/plain": [
       "   Data_Year               Quarter     County FUEL_TYPE   MAKE     MODEL  \\\n",
       "0       2009  (No Quarter Related)  San Diego  Electric  Tesla  Roadster   \n",
       "1       2010  (No Quarter Related)  San Diego  Electric   MINI    Cooper   \n",
       "2       2010  (No Quarter Related)  San Diego  Electric  Tesla  Roadster   \n",
       "\n",
       "   Number of Vehicles  \n",
       "0                   1  \n",
       "1                   2  \n",
       "2                  26  "
      ]
     },
     "execution_count": 2,
     "metadata": {},
     "output_type": "execute_result"
    }
   ],
   "source": [
    "zero_emission_vehicle_sales = pd.read_csv('New_ZEV_Sales_Last_updated_05-01-2024_ada(County).csv')\n",
    "zero_emission_vehicle_sales['FUEL_TYPE'] = zero_emission_vehicle_sales['FUEL_TYPE'].apply(lambda x: 'Plug-in hybrid electric' if x == 'PHEV' else x)\n",
    "zero_emission_vehicle_sales['Quarter'] = zero_emission_vehicle_sales['Quarter'].apply(lambda x: '(No Quarter Related)' if pd.isnull(x) else x)\n",
    "zero_emission_vehicle_sales = zero_emission_vehicle_sales[zero_emission_vehicle_sales['County'] == 'San Diego'].reset_index()\n",
    "zero_emission_vehicle_sales.drop(columns=['index'], inplace=True)\n",
    "print('Shape of the df:', zero_emission_vehicle_sales.shape)\n",
    "zero_emission_vehicle_sales.head(3)"
   ]
  },
  {
   "cell_type": "markdown",
   "metadata": {},
   "source": [
    "This data set covers the sales of specific ZEV (zero emission value) vehicles covered in specific counties. As seen above we aggregated these counties to focus only on San Diego. Particular interest will be fuel type to help identify specific engine types along with car make and model to help us potentially identify car models in our collisions sets. As such, the main reason for the usage of this frame here was to help us identify vehicles purchased in san diego and connect them to possible collision models we found in our previous dataset. This will help distinguish a potential relationship with engine type models thought we may have to make large assumptions on the data since this only cover ZEV type engines.\n",
    "\n",
    "Data cleaning here was fairly straight forward. Fuel type only replace PHEV to full context of \"plug-in hybrid electric\" and nulls in the quarter column were replaced with a \"no quarter related\" designation. Finally, the data was sliced for only San Diego county values."
   ]
  },
  {
   "cell_type": "markdown",
   "metadata": {},
   "source": [
    "# Ethics & Privacy"
   ]
  },
  {
   "cell_type": "markdown",
   "metadata": {},
   "source": [
    "**Data privacy issues**\n",
    "- All the data was largely available online for free and avoided specific user information (license plate, ids, etc.)\n",
    "- If personal data is included, such as addresses, we will remove it from the data set as it is irrelevant.\n",
    "- It's hard to say exactly if the data is focused on a particularly population (for example race) but based on the sources provided, that does not seem to be the case.\n",
    "- We'll mainly need to pay attention to the data sources to examine specific biases should they exist, mingling between one another should keep the data fair and not narrow minded towards one aspect. We should also keep update with trends and brand research that may come from unintended biases (for example Teslas might only belong to a certain group that may get label incorrectly due to data)\n",
    "\n",
    "**Potential ethical concerns**\n",
    "- One could link vehicle models and social class and negatively view certain groups using our project conclusion.\n",
    "- Drivers of car brands that get into accidents more could be negatively stereotyped as bad drivers, which might lead them to avoid those drivers. Alternatively, it could give police officers a biased view and be more prone to write a ticket to drivers based on their vehicle models/makes rather than what they actually did.\n",
    "- To follow up the above point, certain car brands may labeled under specific violations more often than others causing police officers to report and watch over these vehicles with higher biases than others.\n",
    "\n",
    "**Unintended consequences discussion**\n",
    "- The data could negatively impact the car sales of brands that we find to get into more car accidents.\n",
    "- Bad publicity from the study could cause affected car brands to make unnecessary changes to their products to include extra safety features which would add to the price of the car.\n",
    "- It could instill fear among drivers in San Diego, impacting their perception of certain brands.\n",
    "- Mainly the idea of brand labeling as negative unintentionally when we're just trying to explore this potential relationship to help clarify whether it's relevant or even exists.\n",
    "- Whatever conclusion we reach that is supported by the data needs to be as unbiased as possible, else we risk negative stereotyping as mentioned in our potential ethical concerns i.e. no negative connotations to a specific group of drivers like Tesla drivers etc.\n",
    "- Young drivers (aka worse drivers) causing accidents with safe car brands could cause cars with better safety features to be misconstrued as unsafe.\n",
    "- Insurance companies could use the study as justification to raise insurance premiums on those car brands.\n",
    "- Bias issues will largely be labeled by disclaimers. If we can avoid it, we will but if it's too integrated with the data, the next step is pinpoint and point out this fact to an audience and clarify it to avoid potential bias forming because of it\n",
    "\n"
   ]
  },
  {
   "cell_type": "markdown",
   "metadata": {},
   "source": [
    "# Team Expectations "
   ]
  },
  {
   "cell_type": "markdown",
   "metadata": {},
   "source": [
    "* *Main general focus of communication will be through discord, responses will be at maximum 24 hours with a reply (or just an emote) Main exception will be Zeyad who may be less handy with discord and will email more often should need to*\n",
    "* *Weekly meetings every Saturday, usually around 6 pm to discuss*\n",
    "* *General Work expectations of contributions, at the very least looking into research/checking out what work has been done and making suggestions*\n",
    "* *Check in on how every's one feeling or if they're busy, communicate how they're feeling in terms of work to know how every is managing and fill in gaps if need be*\n",
    "* *If something out of the blue pops up, message and discuss properly as soon as possible*\n",
    "* *If any issues or questions in general, again simply message and ask*\n",
    "* *May also include extra meetings over the week depending on the work being done/ is needed*"
   ]
  },
  {
   "cell_type": "markdown",
   "metadata": {},
   "source": [
    "# Project Timeline Proposal"
   ]
  },
  {
   "cell_type": "markdown",
   "metadata": {},
   "source": [
    "| Meeting Date  | Meeting Time| Completed Before Meeting  | Discuss at Meeting |\n",
    "|---|---|---|---|\n",
    "| 4/13  |  6 PM | Brainstorm possible topics for our project  | Determine best form of communication; Discuss and decide on final project topic; Discuss which type of question we want to ask; begin background research | \n",
    "| 4/20  |  6 PM |  Search which dataset we can use | Discuss ideal dataset(s) and ethics; Discuss research question we want to answer; Find which dataset we can use | \n",
    "| 4/27  | 5:30 PM  | Briefly look over the datasets; Draft project proposal  | Edit, finalize, and submit proposal |\n",
    "| 5/4  | 6 PM  | Data exploration and cleaning | Further discussion of what's usable and plan out report  |\n",
    "| 5/11  | 6 PM  | Data plotting and graph exploration | Discuss on process and check out how we're doing in terms of conclusion |\n",
    "| 5/18  | 6 PM  | Finalize and submit Data checkpoint (5/17) | Discuss results finding and plan out story telling |\n",
    "| 5/25  | 6 PM  | work over time on results and conclusions | Explore current format of project see if everything look in reasonable shape |\n",
    "| 6/1  | 6 PM  | Finalize and submit EDA (5/31) | Discus any major final last changes |\n",
    "| 6/8  | 6 PM  | Finalize final project; Edit final video | Submit Final Project & Video & Team eval survey (6/12) |"
   ]
  }
 ],
 "metadata": {
  "kernelspec": {
   "display_name": "Python 3 (ipykernel)",
   "language": "python",
   "name": "python3"
  },
  "language_info": {
   "codemirror_mode": {
    "name": "ipython",
    "version": 3
   },
   "file_extension": ".py",
   "mimetype": "text/x-python",
   "name": "python",
   "nbconvert_exporter": "python",
   "pygments_lexer": "ipython3",
   "version": "3.8.18"
  }
 },
 "nbformat": 4,
 "nbformat_minor": 2
}
